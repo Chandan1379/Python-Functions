{
 "cells": [
  {
   "cell_type": "markdown",
   "id": "1c77858d",
   "metadata": {},
   "source": [
    "# Q(1). Create a python program to sort the given list of tuples based on integer value using a lambda function.\n",
    "# [('Sachin Tendulkar', 34357), ('Ricky Ponting', 27483), ('Jack Kallis', 25534), ('Virat Kohli', 24936)]"
   ]
  },
  {
   "cell_type": "markdown",
   "id": "cc45ffe6",
   "metadata": {},
   "source": [
    "Ans.:- "
   ]
  },
  {
   "cell_type": "code",
   "execution_count": 1,
   "id": "6790c079",
   "metadata": {
    "scrolled": true
   },
   "outputs": [],
   "source": [
    "list1 = [('Sachin Tendulkar', 34357), ('Ricky Ponting', 27483), ('Jack Kallis', 25534), ('Virat Kohli', 24936)]"
   ]
  },
  {
   "cell_type": "code",
   "execution_count": 2,
   "id": "ea8514fc",
   "metadata": {},
   "outputs": [],
   "source": [
    "list1.sort(key = lambda x : x[1])"
   ]
  },
  {
   "cell_type": "code",
   "execution_count": 3,
   "id": "76fdc67d",
   "metadata": {},
   "outputs": [
    {
     "name": "stdout",
     "output_type": "stream",
     "text": [
      "[('Virat Kohli', 24936), ('Jack Kallis', 25534), ('Ricky Ponting', 27483), ('Sachin Tendulkar', 34357)]\n"
     ]
    }
   ],
   "source": [
    "print(list1)"
   ]
  },
  {
   "cell_type": "markdown",
   "id": "01274c9f",
   "metadata": {},
   "source": [
    "# Q(2). Write a Python Program to find the squares of all the numbers in the given list of integers using lambda and map functions.\n",
    "# [1, 2, 3, 4, 5, 6, 7, 8, 9, 10]"
   ]
  },
  {
   "cell_type": "markdown",
   "id": "ffbf4e30",
   "metadata": {},
   "source": [
    "Ans.:-"
   ]
  },
  {
   "cell_type": "code",
   "execution_count": 4,
   "id": "cbb9209a",
   "metadata": {
    "scrolled": true
   },
   "outputs": [],
   "source": [
    "list2 = [1,2,3,4,5,6,7,8,9,10]"
   ]
  },
  {
   "cell_type": "code",
   "execution_count": 5,
   "id": "c4b6143c",
   "metadata": {
    "scrolled": true
   },
   "outputs": [
    {
     "name": "stdout",
     "output_type": "stream",
     "text": [
      "[1, 4, 9, 16, 25, 36, 49, 64, 81, 100]\n"
     ]
    }
   ],
   "source": [
    "print(list(map(lambda x : x * x, list2)))"
   ]
  },
  {
   "cell_type": "markdown",
   "id": "b2311cfb",
   "metadata": {},
   "source": [
    "# Q(3). Write a python program to convert the given list of integers into a tuple of strings. Use map and lambda functions\n",
    "# Given String: [1, 2, 3, 4, 5, 6, 7, 8, 9, 10]\n",
    "# Expected output: ('1', '2', '3', '4', '5', '6', '7', '8', '9', '10')"
   ]
  },
  {
   "cell_type": "markdown",
   "id": "800f3bd9",
   "metadata": {},
   "source": [
    "Ans.:-"
   ]
  },
  {
   "cell_type": "code",
   "execution_count": 6,
   "id": "e200951c",
   "metadata": {},
   "outputs": [],
   "source": [
    "list3 = [1,2,3,4,5,6,7,8,9,10]"
   ]
  },
  {
   "cell_type": "code",
   "execution_count": 7,
   "id": "88e202ca",
   "metadata": {},
   "outputs": [
    {
     "name": "stdout",
     "output_type": "stream",
     "text": [
      "('1', '2', '3', '4', '5', '6', '7', '8', '9', '10')\n"
     ]
    }
   ],
   "source": [
    "print(tuple(map(lambda x : str(x), list3)))"
   ]
  },
  {
   "cell_type": "markdown",
   "id": "f73bec36",
   "metadata": {},
   "source": [
    "# Q(4). Write a python program using reduce function to compute the product of a list containing numbers from 1 to 25."
   ]
  },
  {
   "cell_type": "markdown",
   "id": "c9e85394",
   "metadata": {},
   "source": [
    "Ans.:- "
   ]
  },
  {
   "cell_type": "code",
   "execution_count": 8,
   "id": "ca28389a",
   "metadata": {},
   "outputs": [],
   "source": [
    "from functools import reduce"
   ]
  },
  {
   "cell_type": "code",
   "execution_count": 9,
   "id": "0263a49e",
   "metadata": {},
   "outputs": [],
   "source": [
    "list4 = list(range(1,26))"
   ]
  },
  {
   "cell_type": "code",
   "execution_count": 10,
   "id": "c16701de",
   "metadata": {},
   "outputs": [
    {
     "name": "stdout",
     "output_type": "stream",
     "text": [
      "[1, 2, 3, 4, 5, 6, 7, 8, 9, 10, 11, 12, 13, 14, 15, 16, 17, 18, 19, 20, 21, 22, 23, 24, 25]\n"
     ]
    }
   ],
   "source": [
    "print(list4)"
   ]
  },
  {
   "cell_type": "code",
   "execution_count": 11,
   "id": "b4eebcb6",
   "metadata": {},
   "outputs": [],
   "source": [
    "# We can also do addition, subtractionand division but we only need to change \"*\" to +,-,/ etc.\n",
    "product = reduce(lambda x,y : x * y, list4) "
   ]
  },
  {
   "cell_type": "code",
   "execution_count": 12,
   "id": "0a2522ea",
   "metadata": {
    "scrolled": true
   },
   "outputs": [
    {
     "name": "stdout",
     "output_type": "stream",
     "text": [
      "15511210043330985984000000\n"
     ]
    }
   ],
   "source": [
    "print(product)"
   ]
  },
  {
   "cell_type": "code",
   "execution_count": 13,
   "id": "8b4ebd2d",
   "metadata": {},
   "outputs": [
    {
     "name": "stdout",
     "output_type": "stream",
     "text": [
      "325\n"
     ]
    }
   ],
   "source": [
    "addition = reduce(lambda x,y : x + y, list4) \n",
    "print(addition)"
   ]
  },
  {
   "cell_type": "code",
   "execution_count": 14,
   "id": "0a13c868",
   "metadata": {},
   "outputs": [
    {
     "name": "stdout",
     "output_type": "stream",
     "text": [
      "-323\n"
     ]
    }
   ],
   "source": [
    "sub = reduce(lambda x,y : x - y, list4)\n",
    "print(sub)"
   ]
  },
  {
   "cell_type": "code",
   "execution_count": 15,
   "id": "78ab61d4",
   "metadata": {},
   "outputs": [
    {
     "name": "stdout",
     "output_type": "stream",
     "text": [
      "6.446950284384474e-26\n"
     ]
    }
   ],
   "source": [
    "division = reduce(lambda x,y : x / y, list4)\n",
    "print(division)"
   ]
  },
  {
   "cell_type": "markdown",
   "id": "640b45d4",
   "metadata": {},
   "source": [
    "# Q(5). Write a python program to filter the numbers in a given list that are divisible by 2 and 3 using the filter function.\n",
    "# [2, 3, 6, 9, 27, 60, 90, 120, 55, 46]"
   ]
  },
  {
   "cell_type": "markdown",
   "id": "15a5b796",
   "metadata": {},
   "source": [
    "Ans.:-"
   ]
  },
  {
   "cell_type": "code",
   "execution_count": 16,
   "id": "c6f3647c",
   "metadata": {
    "scrolled": true
   },
   "outputs": [],
   "source": [
    "list5 = [2,3,6,9,27,60,90,120,55,46]"
   ]
  },
  {
   "cell_type": "code",
   "execution_count": 17,
   "id": "719be4e8",
   "metadata": {},
   "outputs": [
    {
     "name": "stdout",
     "output_type": "stream",
     "text": [
      "[6, 60, 90, 120]\n"
     ]
    }
   ],
   "source": [
    "print(list(filter(lambda x : x%2 == 0 and x%3 == 0, list5)))"
   ]
  },
  {
   "cell_type": "markdown",
   "id": "adc6f0e5",
   "metadata": {},
   "source": [
    "# Q(6). Write a python program to find palindromes in the given list of strings using lambda and filter function.\n",
    "# ['python', 'php', 'aba', 'radar', 'level']"
   ]
  },
  {
   "cell_type": "markdown",
   "id": "50694590",
   "metadata": {},
   "source": [
    "Ans.:-"
   ]
  },
  {
   "cell_type": "code",
   "execution_count": 18,
   "id": "7d98c068",
   "metadata": {},
   "outputs": [],
   "source": [
    "list6 = ['python', 'php', 'aba', 'radar', 'level']"
   ]
  },
  {
   "cell_type": "code",
   "execution_count": 19,
   "id": "7079bbc4",
   "metadata": {},
   "outputs": [
    {
     "name": "stdout",
     "output_type": "stream",
     "text": [
      "['php', 'aba', 'radar', 'level']\n"
     ]
    }
   ],
   "source": [
    "print(list(filter(lambda x : x == x[::-1], list6)))"
   ]
  }
 ],
 "metadata": {
  "kernelspec": {
   "display_name": "Python 3 (ipykernel)",
   "language": "python",
   "name": "python3"
  },
  "language_info": {
   "codemirror_mode": {
    "name": "ipython",
    "version": 3
   },
   "file_extension": ".py",
   "mimetype": "text/x-python",
   "name": "python",
   "nbconvert_exporter": "python",
   "pygments_lexer": "ipython3",
   "version": "3.10.9"
  }
 },
 "nbformat": 4,
 "nbformat_minor": 5
}
